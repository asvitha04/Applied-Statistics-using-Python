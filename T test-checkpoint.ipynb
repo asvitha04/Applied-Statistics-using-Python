{
 "cells": [
  {
   "cell_type": "code",
   "execution_count": 8,
   "id": "5aebdbe5",
   "metadata": {},
   "outputs": [
    {
     "name": "stdout",
     "output_type": "stream",
     "text": [
      "h0, there is no significant difference between the average scores of the two groups in the population.\n",
      "h1, there is significant difference between the average scores of the two groups in the population\n",
      "The table value: 2.13184678133629\n",
      "T value: 0.3349132123273514\n",
      "The groups have equal mean (H0 holds true)\n"
     ]
    }
   ],
   "source": [
    "import scipy.stats as stats\n",
    "import pandas as pd\n",
    "import numpy as np\n",
    "   \n",
    "data = pd.read_excel(r\"Downloads\\Pets.xlsx\")\n",
    "data_group1 = np.array(data.men)\n",
    "data_group2 = np.array(data.women)\n",
    "\n",
    "print(\"h0, there is no significant difference between the average scores of the two groups in the population.\")\n",
    "print(\"h1, there is significant difference between the average scores of the two groups in the population\")\n",
    "\n",
    "# Performing the two sample t-test with equal variances\n",
    "dof= 3+3-2\n",
    "stat, p = stats.ttest_ind(a=data_group1, b=data_group2, equal_var=True)\n",
    "t_critical = stats.t.ppf(1-.05, dof)\n",
    "print(\"The table value:\",t_critical)\n",
    "print(\"T value:\",stat)\n",
    "\n",
    "if stat > t_critical:\n",
    "    print('There is significant difference (reject H0)')\n",
    "else:\n",
    "    print('The groups have equal mean (H0 holds true)')"
   ]
  },
  {
   "cell_type": "code",
   "execution_count": null,
   "id": "464db833",
   "metadata": {},
   "outputs": [],
   "source": []
  }
 ],
 "metadata": {
  "kernelspec": {
   "display_name": "Python 3 (ipykernel)",
   "language": "python",
   "name": "python3"
  },
  "language_info": {
   "codemirror_mode": {
    "name": "ipython",
    "version": 3
   },
   "file_extension": ".py",
   "mimetype": "text/x-python",
   "name": "python",
   "nbconvert_exporter": "python",
   "pygments_lexer": "ipython3",
   "version": "3.11.3"
  }
 },
 "nbformat": 4,
 "nbformat_minor": 5
}
