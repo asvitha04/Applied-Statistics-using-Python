{
 "cells": [
  {
   "cell_type": "code",
   "execution_count": 2,
   "id": "bee67b72",
   "metadata": {},
   "outputs": [
    {
     "name": "stdout",
     "output_type": "stream",
     "text": [
      "Give the number of entries:45\n",
      "Randomly generated? [0/1]:1\n",
      "The randomly generated marks are:\n",
      "[68, 39, 15, 54, 7, 87, 67, 43, 4, 14, 3, 63, 1, 78, 50, 53, 61, 49, 97, 43, 87, 34, 6, 100, 19, 63, 96, 60, 46, 21, 72, 100, 81, 7, 74, 57, 77, 93, 90, 30, 97, 34, 69, 53, 79]\n",
      "54.24444444444445 = Mean\n",
      "6 = Median\n",
      "7 =Mode\n"
     ]
    }
   ],
   "source": [
    "import random\n",
    "marks=[]\n",
    "n=int(input(\"Give the number of entries:\"))\n",
    "ans=int(input(\"Randomly generated? [0/1]:\"))\n",
    "if ans==0:\n",
    "    print(\"Enter marks:\")\n",
    "    for i in range(0,n):\n",
    "        m=int(input())\n",
    "        marks.append(m)\n",
    "else:\n",
    "    for i in range(n):\n",
    "        num= random.randint(1,100)\n",
    "        marks.append(num)\n",
    "    print(\"The randomly generated marks are:\")\n",
    "    print(marks)\n",
    "sum_ele=0\n",
    "for j in range(n):\n",
    "    sum_ele+=marks[j]\n",
    "\n",
    "mean=sum_ele/n\n",
    "print(mean,\"= Mean\")\n",
    "\n",
    "if n%2==0:\n",
    "    median=(marks[int((n-1)/2)]+marks[int(n/2)])/2\n",
    "elif n%2==1:\n",
    "    median=marks[int(n/2)]\n",
    "print(median,\"= Median\")\n",
    "\n",
    "mode=0 \n",
    "mode=(max(set(marks),key=marks.count))\n",
    "print(mode,\"=Mode\")"
   ]
  },
  {
   "cell_type": "code",
   "execution_count": null,
   "id": "33dbdc7c",
   "metadata": {},
   "outputs": [],
   "source": []
  }
 ],
 "metadata": {
  "kernelspec": {
   "display_name": "Python 3 (ipykernel)",
   "language": "python",
   "name": "python3"
  },
  "language_info": {
   "codemirror_mode": {
    "name": "ipython",
    "version": 3
   },
   "file_extension": ".py",
   "mimetype": "text/x-python",
   "name": "python",
   "nbconvert_exporter": "python",
   "pygments_lexer": "ipython3",
   "version": "3.11.4"
  }
 },
 "nbformat": 4,
 "nbformat_minor": 5
}
