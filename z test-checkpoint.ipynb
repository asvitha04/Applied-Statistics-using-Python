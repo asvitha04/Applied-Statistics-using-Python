{
 "cells": [
  {
   "cell_type": "code",
   "execution_count": 5,
   "id": "56ca3273",
   "metadata": {},
   "outputs": [
    {
     "name": "stdout",
     "output_type": "stream",
     "text": [
      "      0  men  women\n",
      "0   dog  207    234\n",
      "1   cat  282    242\n",
      "2  bird  241    232\n",
      "Null Hypothesis h0, mu_1-mu_2 = 0\n",
      "Alternate Hypothesis h1, mu_1 != mu_2\n",
      "Z-Score: 0.4101832391592059\n",
      "For a 95% confidence interval Zcritical = 1.96.\n",
      "Fail to reject the null hypothesis.\n",
      "There is not enough evidence to suggest a significant difference between the pets beholded by men and women.\n",
      "P-Value : 0.6816715350676603\n",
      "Fail to reject the null hypothesis.\n",
      "There is not enough evidence to suggest significant difference between the pets beholded by men and women.\n"
     ]
    }
   ],
   "source": [
    "import numpy as np\n",
    "import pandas as pd\n",
    "import scipy.stats as stats\n",
    "\n",
    "data = pd.read_excel(r\"Downloads\\Pets.xlsx\")\n",
    "print(data)\n",
    "n1=3\n",
    "n2=3\n",
    "x1 = np.mean(data.men)\n",
    "x2 = np.mean(data.women)\n",
    "s1 = np.std(data.men)\n",
    "s2 = np.std(data.women)\n",
    "\n",
    "print(\"Null Hypothesis h0, mu_1-mu_2 = 0\")\n",
    "print(\"Alternate Hypothesis h1, mu_1 != mu_2\")\n",
    "\n",
    "\n",
    "# Approach 1: Direct method\n",
    "z_score = ((x1 - x2) / np.sqrt((s1**2 / n1) + (s2**2 / n2)))\n",
    "print('Z-Score:', np.abs(z_score))\n",
    "           \n",
    "\n",
    "print('For a 95% confidence interval Zcritical = 1.96.')\n",
    "z_critical=1.96\n",
    "\n",
    "if np.abs(z_score) > z_critical:\n",
    "\tprint(\"\"\"Reject the null hypothesis.\n",
    "There is a significant difference between the pets beholded by men and women.\"\"\")\n",
    "else:\n",
    "\tprint(\"\"\"Fail to reject the null hypothesis.\n",
    "There is not enough evidence to suggest a significant difference between the pets beholded by men and women.\"\"\")\n",
    "\n",
    "# Approach 2: Using P-value\n",
    "\n",
    "alpha=0.05\n",
    "p_value = 2 * (1 - stats.norm.cdf(np.abs(z_score)))\n",
    "print('P-Value :',p_value)\n",
    "\n",
    "if p_value < alpha:\n",
    "\tprint(\"\"\"Reject the null hypothesis.\n",
    "There is a significant difference between the pets beholded by men and women.\"\"\")\n",
    "else:\n",
    "\tprint(\"\"\"Fail to reject the null hypothesis.\n",
    "There is not enough evidence to suggest significant difference between the pets beholded by men and women.\"\"\")\n"
   ]
  },
  {
   "cell_type": "code",
   "execution_count": null,
   "id": "47ec51b5",
   "metadata": {},
   "outputs": [],
   "source": []
  }
 ],
 "metadata": {
  "kernelspec": {
   "display_name": "Python 3 (ipykernel)",
   "language": "python",
   "name": "python3"
  },
  "language_info": {
   "codemirror_mode": {
    "name": "ipython",
    "version": 3
   },
   "file_extension": ".py",
   "mimetype": "text/x-python",
   "name": "python",
   "nbconvert_exporter": "python",
   "pygments_lexer": "ipython3",
   "version": "3.11.3"
  }
 },
 "nbformat": 4,
 "nbformat_minor": 5
}
