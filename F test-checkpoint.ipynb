{
 "cells": [
  {
   "cell_type": "code",
   "execution_count": 6,
   "id": "c311572a",
   "metadata": {},
   "outputs": [
    {
     "name": "stdout",
     "output_type": "stream",
     "text": [
      "      0  men  women\n",
      "0   dog  207    234\n",
      "1   cat  282    242\n",
      "2  bird  241    232\n",
      "h0, the variances for the two samples are equal\n",
      "h1, the variances for the two samples are not equal\n",
      "1410.3333333333333 28\n",
      "Degree of freedom 1: 2\n",
      "Degree of freedom 2: 2\n",
      "F-statistic: 50.36904761904761\n",
      "f alpha(0.05)-value: 18.999999999999982\n",
      "Not equal (reject H0)\n"
     ]
    }
   ],
   "source": [
    "import numpy as np\n",
    "import statistics\n",
    "import scipy.stats\n",
    "import pandas as pd\n",
    " \n",
    "data = pd.read_excel(r\"Downloads\\Pets.xlsx\")\n",
    "print(data)\n",
    "group1 = list(data.men)\n",
    "group2 = list(data.women)\n",
    " \n",
    "print(\"h0, the variances for the two samples are equal\")\n",
    "print(\"h1, the variances for the two samples are not equal\")\n",
    "\n",
    "variance1 = statistics.variance(group1)\n",
    "variance2 = statistics.variance(group2)\n",
    "\n",
    "print(variance1,variance2)\n",
    "\n",
    "if (variance1>variance2):\n",
    "    f_value = variance1 / variance2\n",
    "else:\n",
    "    f_value = variance2 / variance1\n",
    "\n",
    "if (variance1>variance2):\n",
    "    dof1 = len(group1) - 1\n",
    "else:\n",
    "    dof1 = len(group2) - 1\n",
    "   \n",
    "if (variance1>variance2):\n",
    "    dof2 = len(group2) - 1\n",
    "else:\n",
    "    dof2 = len(group1) - 1\n",
    "\n",
    " \n",
    "\n",
    "f_alpha = scipy.stats.f.ppf(q=1-.05, dfn=2, dfd=2)\n",
    " \n",
    "\n",
    "print('Degree of freedom 1:',dof1)\n",
    "print('Degree of freedom 2:',dof2)\n",
    "print(\"F-statistic:\", f_value)\n",
    "print(\"f alpha(0.05)-value:\", f_alpha)\n",
    "\n",
    "if f_value > f_alpha:\n",
    "    print('Not equal (reject H0)')\n",
    "else:\n",
    "    print('Equal (H0 holds true)')"
   ]
  },
  {
   "cell_type": "code",
   "execution_count": null,
   "id": "75bd6ef8",
   "metadata": {},
   "outputs": [],
   "source": []
  }
 ],
 "metadata": {
  "kernelspec": {
   "display_name": "Python 3 (ipykernel)",
   "language": "python",
   "name": "python3"
  },
  "language_info": {
   "codemirror_mode": {
    "name": "ipython",
    "version": 3
   },
   "file_extension": ".py",
   "mimetype": "text/x-python",
   "name": "python",
   "nbconvert_exporter": "python",
   "pygments_lexer": "ipython3",
   "version": "3.11.3"
  }
 },
 "nbformat": 4,
 "nbformat_minor": 5
}
