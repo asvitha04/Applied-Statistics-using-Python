{
 "cells": [
  {
   "cell_type": "code",
   "execution_count": null,
   "id": "88464416",
   "metadata": {},
   "outputs": [],
   "source": [
    "!pip install pandas"
   ]
  },
  {
   "cell_type": "code",
   "execution_count": 20,
   "id": "ae745719",
   "metadata": {
    "scrolled": true
   },
   "outputs": [
    {
     "name": "stdout",
     "output_type": "stream",
     "text": [
      "Grouped data?[1/0]:1\n",
      "Population: [203, 72, 639, 882, 110, 660, 849, 434, 729, 456, 70, 784, 203, 641, 644, 489, 439, 279, 356, 88, 682, 699, 507, 838, 773, 6, 51, 324, 523, 757, 580, 448, 938, 534, 932, 329, 108, 706, 759, 181, 885, 680, 400, 582, 837, 886, 902, 989, 762, 230, 156, 642, 262, 888, 302, 669, 880, 370, 498, 260, 734, 459, 669, 613, 729, 591, 271, 738, 564, 538, 929, 458, 196, 110, 514, 921, 609, 102, 802, 653, 98, 511, 384, 864, 160, 539, 731, 293, 487, 94, 286, 64, 309, 923, 758, 91, 808, 935, 956, 402, 420, 375, 30, 337, 167, 200, 907, 844, 513, 173, 595, 322, 273, 558, 412, 282, 964, 484, 375, 178, 364, 196, 203, 641, 730, 295, 28, 22, 598, 870, 243, 922, 950, 120, 220, 90, 47, 910, 459, 609, 265, 988, 909, 114, 379, 149, 669, 933, 514, 34, 818, 503, 923, 936, 372, 986, 399, 428, 887, 303, 444, 989, 638, 124, 841, 906, 769, 470, 566, 457, 829, 58, 638, 755, 858, 858, 572, 765, 11, 913, 640, 572, 940, 602, 683, 658, 32, 697, 540, 488, 868, 894, 227, 922, 985, 357, 655, 338, 946, 928, 25, 413, 687, 923, 16, 192, 423, 294, 367, 852, 41, 451, 417, 353, 197, 301, 975, 1, 463, 580, 368, 701, 6, 867, 986, 702, 926, 639, 981, 444, 804, 422, 438, 730, 474, 209, 704, 638, 868, 531, 833, 412, 553, 751, 448, 511, 402, 333, 106, 521, 607, 706, 721, 395, 916, 659, 955, 491, 356, 558, 45, 590, 892, 865, 216, 994, 327, 199, 781, 731, 912, 568, 503, 528, 201, 822, 99, 915, 53, 784, 682, 730, 805, 42, 658, 723, 873, 548, 104, 218, 263, 197, 935, 700, 163, 23, 491, 53, 352, 618, 604, 466, 244, 969, 773, 423, 670, 320, 150, 684, 832, 742, 761, 87, 359, 466, 303, 1, 49, 257, 900, 804, 593, 164, 691, 344, 131, 981, 365, 857, 445, 312, 84, 147, 144, 36, 880, 233, 446, 366, 640, 146, 102, 411, 790, 531, 121, 197, 532, 294, 467, 617, 259, 762, 874, 387, 173, 862, 537, 56, 506, 875, 277, 258, 930, 131, 758, 147, 580, 170, 472, 319, 703, 995, 961, 360, 847, 588, 944, 217, 73, 378, 525, 633, 689, 199, 722, 448, 407, 368, 454, 34, 611, 512, 660, 707, 922, 562, 915, 955, 677, 735, 87, 624, 743, 110, 225, 136, 736, 14, 185, 966, 303, 738, 520, 61, 647, 971, 375, 897, 755, 229, 504, 690, 390, 999, 509, 779, 274, 375, 775, 166, 169, 943, 252, 207, 612, 2, 362, 176, 433, 162, 77, 826, 772, 986, 673, 394, 22, 707, 886, 922, 386, 775, 613, 877, 73, 283, 547, 66, 74, 230, 608, 631, 600, 913, 31, 844, 141, 753, 237, 59, 440, 297, 873, 193, 468, 217, 422, 944, 30, 632, 128, 370, 664, 460, 263, 502, 476, 739, 510, 839, 723, 626, 37, 823, 360, 135, 57, 704]\n",
      "Sample: [759, 975, 902, 402, 922, 753, 362, 439, 94, 553, 451, 520, 131, 701, 466, 468, 73, 457, 375, 484]\n",
      "FREQUENCY DISTRIBUTION TABLE FOR GROUPED DATA:\n",
      "Apparent lower limit: 73\n",
      "Maximum value in the dataset: 975\n",
      "            freq    rf    pf  cf   rcf   prcf\n",
      "(73, 253)      3  0.15  15.0   3  0.15   15.0\n",
      "(254, 434)     3  0.15  15.0   6  0.30   30.0\n",
      "(435, 615)     8  0.40  40.0  14  0.70   70.0\n",
      "(616, 796)     3  0.15  15.0  17  0.85   85.0\n",
      "(797, 977)     3  0.15  15.0  20  1.00  100.0\n"
     ]
    }
   ],
   "source": [
    "import pandas as pd\n",
    "import numpy as np\n",
    "import math\n",
    "dataset=[]\n",
    "\n",
    "ans=int(input(\"Grouped data?[1/0]:\"))\n",
    "\n",
    "if ans==0: \n",
    "    n=int(input(\"Enter the no. of entries:\"))\n",
    "    print(\"Enter data:\")\n",
    "    for i in range(n):\n",
    "        data=int(input())\n",
    "        dataset.append(data)\n",
    "\n",
    "    frequency = {}\n",
    "\n",
    "    for item in dataset:\n",
    "       if item in frequency:\n",
    "          frequency[item] += 1\n",
    "       else:\n",
    "          frequency[item] = 1\n",
    "\n",
    "    s1=pd.Series(frequency)\n",
    "    df1=pd.DataFrame(s1)\n",
    "    df1.columns = [\"freq\",\"rf\",\"pf\",\"cf\",\"rcf\",\"prcf\"]\n",
    "    df1[\"rf\"]=df1/n\n",
    "    df1[\"pf\"]=df1[\"rf\"]*100\n",
    "    df1[\"cf\"]=s1.cumsum()\n",
    "    df1[\"rcf\"]=df1[\"cf\"]/s1.sum()\n",
    "    df1[\"prcf\"]=df1[\"rcf\"]*100\n",
    "    print(df1)\n",
    "    \n",
    "if ans==1:\n",
    "        population=[]\n",
    "        for i in range(500):\n",
    "            num=np.random.randint(1000)\n",
    "            population.append(num)\n",
    "        print(\"Population:\",population)\n",
    "        sample=list(np.random.choice(population,20))\n",
    "        print(\"Sample:\",sample)\n",
    "        \n",
    "        print(\"FREQUENCY DISTRIBUTION TABLE FOR GROUPED DATA:\")\n",
    "        \n",
    "        print(\"Apparent lower limit:\",min(sample))\n",
    "        range_sam=max(sample)-min(sample)\n",
    "        print(\"Maximum value in the dataset:\", max(sample))\n",
    "        max_element=max(sample)\n",
    "        \n",
    "        #Number of class intervals\n",
    "        k=5\n",
    "        if range_sam % k ==0: \n",
    "                k =k+1\n",
    "\n",
    "        width=math.ceil(range_sam/k)\n",
    "        low_class=np.arange(min(sample),max(sample),width)\n",
    "        upper_class=low_class+width-1\n",
    "        classes=list(zip(low_class,upper_class))\n",
    "        lw_list=list(low_class)\n",
    "        list_1= np.histogram(sample, lw_list + [max_element])[0]\n",
    "        s2=pd.Series(list_1,index=classes)\n",
    "        df1=pd.DataFrame(s2,columns = [\"freq\"])\n",
    "        df1[\"rf\"]=df1/20\n",
    "        df1[\"pf\"]=df1[\"rf\"]*100\n",
    "        df1[\"cf\"]=s2.cumsum()\n",
    "        df1[\"rcf\"]=df1[\"cf\"]/s2.sum()\n",
    "        df1[\"prcf\"]=df1[\"rcf\"]*100\n",
    "        print(df1)\n",
    "        \n"
   ]
  },
  {
   "cell_type": "code",
   "execution_count": null,
   "id": "91fcf2a7",
   "metadata": {},
   "outputs": [],
   "source": []
  },
  {
   "cell_type": "code",
   "execution_count": null,
   "id": "33f07cc3",
   "metadata": {},
   "outputs": [],
   "source": []
  }
 ],
 "metadata": {
  "kernelspec": {
   "display_name": "Python 3 (ipykernel)",
   "language": "python",
   "name": "python3"
  },
  "language_info": {
   "codemirror_mode": {
    "name": "ipython",
    "version": 3
   },
   "file_extension": ".py",
   "mimetype": "text/x-python",
   "name": "python",
   "nbconvert_exporter": "python",
   "pygments_lexer": "ipython3",
   "version": "3.11.4"
  }
 },
 "nbformat": 4,
 "nbformat_minor": 5
}
