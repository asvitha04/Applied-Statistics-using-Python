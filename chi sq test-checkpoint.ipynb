{
 "cells": [
  {
   "cell_type": "code",
   "execution_count": 10,
   "id": "58d3b4ba",
   "metadata": {},
   "outputs": [
    {
     "name": "stdout",
     "output_type": "stream",
     "text": [
      "      0  men  women\n",
      "0   dog  207    234\n",
      "1   cat  282    242\n",
      "2  bird  241    232\n",
      "h0, there is no relationship between the two variables\n",
      "h1, there is relationship between the two variables\n",
      "Expected values: [[223.87343533 266.00834492 240.11821975]\n",
      " [217.12656467 257.99165508 232.88178025]]\n",
      "Degrees of freedom: 2\n",
      "The table value: 5.991464547107979\n",
      "Χ^2 value: 4.542228269825232\n",
      "Independent (H0 holds true)\n"
     ]
    }
   ],
   "source": [
    "import scipy.stats\n",
    "import pandas as pd\n",
    "\n",
    "data = pd.read_excel(r\"Downloads\\Pets.xlsx\")\n",
    "print(data)\n",
    "print(\"h0, there is no relationship between the two variables\")\n",
    "print(\"h1, there is relationship between the two variables\")\n",
    "men=list(data.men)\n",
    "women=list(data.women)\n",
    "obs=[men,women]\n",
    "stat, p, dof, expected = scipy.stats.chi2_contingency(obs)\n",
    "chi2_critical=scipy.stats.chi2.ppf(1-.05, df=dof)\n",
    "print(\"Expected values:\",expected)\n",
    "print(\"Degrees of freedom:\",dof)\n",
    "print(\"The table value:\",chi2_critical)\n",
    "print(\"Χ^2 value:\",stat)\n",
    "if stat > chi2_critical:\n",
    "    print('Dependent (reject H0)')\n",
    "else:\n",
    "    print('Independent (H0 holds true)')"
   ]
  },
  {
   "cell_type": "code",
   "execution_count": null,
   "id": "e2abeaba",
   "metadata": {},
   "outputs": [],
   "source": []
  },
  {
   "cell_type": "code",
   "execution_count": null,
   "id": "168015f5",
   "metadata": {},
   "outputs": [],
   "source": []
  }
 ],
 "metadata": {
  "kernelspec": {
   "display_name": "Python 3 (ipykernel)",
   "language": "python",
   "name": "python3"
  },
  "language_info": {
   "codemirror_mode": {
    "name": "ipython",
    "version": 3
   },
   "file_extension": ".py",
   "mimetype": "text/x-python",
   "name": "python",
   "nbconvert_exporter": "python",
   "pygments_lexer": "ipython3",
   "version": "3.11.3"
  }
 },
 "nbformat": 4,
 "nbformat_minor": 5
}
